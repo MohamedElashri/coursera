{
 "cells": [
  {
   "cell_type": "markdown",
   "metadata": {},
   "source": [
    "# Week 3 - Ungraded Lab: Data Labeling\n",
    "\n",
    "Welcome to the ungraded lab for week 3 of Machine Learning Engineering for Production. In this lab, you will see how the data labeling process affects the performance of classification models. Labeling data is usually a very labor intensive and costly task.  One appealing option to overcome these problems is to automate the labeling process. [Snorkel](https://www.snorkel.org/) is a popular library to perform automatic data labelling. The main objective of this ungraded lab is to compare performance across three labeling options:\n",
    "1. Randomly generated labels (performance lower bound)\n",
    "2. Snorkel generated labels \n",
    "3. True labels (performance upper bound)\n",
    "\n",
    "In this ungraded lab, you will be using a dataset containing comments from the 2015 top 5 most popular Youtube videos. Each comment has been labeled as `spam` or `not_spam` depending on its contents.\n",
    "\n",
    "As a final remark, this lab takes inspiration from [this tutorial](https://www.snorkel.org/use-cases/01-spam-tutorial), which is part of Snorkel's official tutorial list. We recommend to check it out to have a broader view on Snorkel's functionalities and capabilities not covered in this lab.\n",
    "\n",
    " "
   ]
  },
  {
   "cell_type": "code",
   "execution_count": 1,
   "metadata": {},
   "outputs": [],
   "source": [
    "import os\n",
    "import re\n",
    "import glob\n",
    "import numpy as np\n",
    "import pandas as pd\n",
    "import seaborn as sns\n",
    "import matplotlib.pyplot as plt"
   ]
  },
  {
   "cell_type": "markdown",
   "metadata": {},
   "source": [
    "## Loading the dataset\n",
    "\n",
    "The dataset consists of 5 CSV files, one for each video. Pandas `DataFrame` are very powerful to handle data in CSV format. The following helper function will load the data using pandas:"
   ]
  },
  {
   "cell_type": "code",
   "execution_count": 2,
   "metadata": {},
   "outputs": [],
   "source": [
    "def load_labeled_spam_dataset():\n",
    "    \"\"\"Load labeled spam dataset.\"\"\"\n",
    "    filenames = sorted(glob.glob(\"data/Youtube*.csv\"))\n",
    "    dfs = []\n",
    "    for i, filename in enumerate(filenames, start=1):\n",
    "        df = pd.read_csv(filename)\n",
    "        df.columns = map(str.lower, df.columns)\n",
    "        df[\"video\"] = [i] * len(df)\n",
    "        df = df.rename(columns={\"class\": \"label\", \"content\": \"text\"})\n",
    "        df = df.sample(frac=1, random_state=123).reset_index(drop=True)\n",
    "        dfs.append(df)\n",
    "    \n",
    "    return pd.concat(dfs).reset_index()\n",
    "\n",
    "# Save the dataframe into the df_labeled variable\n",
    "df_labeled = load_labeled_spam_dataset()"
   ]
  },
  {
   "cell_type": "markdown",
   "metadata": {},
   "source": [
    "To have a feeling of how the data is organized, let's inspect the top 5 rows of the data:"
   ]
  },
  {
   "cell_type": "code",
   "execution_count": 3,
   "metadata": {},
   "outputs": [
    {
     "data": {
      "text/html": [
       "<div>\n",
       "<style scoped>\n",
       "    .dataframe tbody tr th:only-of-type {\n",
       "        vertical-align: middle;\n",
       "    }\n",
       "\n",
       "    .dataframe tbody tr th {\n",
       "        vertical-align: top;\n",
       "    }\n",
       "\n",
       "    .dataframe thead th {\n",
       "        text-align: right;\n",
       "    }\n",
       "</style>\n",
       "<table border=\"1\" class=\"dataframe\">\n",
       "  <thead>\n",
       "    <tr style=\"text-align: right;\">\n",
       "      <th></th>\n",
       "      <th>index</th>\n",
       "      <th>comment_id</th>\n",
       "      <th>author</th>\n",
       "      <th>date</th>\n",
       "      <th>text</th>\n",
       "      <th>label</th>\n",
       "      <th>video</th>\n",
       "    </tr>\n",
       "  </thead>\n",
       "  <tbody>\n",
       "    <tr>\n",
       "      <th>0</th>\n",
       "      <td>0</td>\n",
       "      <td>z13ky1cgzpjpvdpp004chhebvqnkhnpjmzo0k</td>\n",
       "      <td>Alessandro leite</td>\n",
       "      <td>2014-11-05T22:21:36</td>\n",
       "      <td>pls http://www10.vakinha.com.br/VaquinhaE.aspx...</td>\n",
       "      <td>1</td>\n",
       "      <td>1</td>\n",
       "    </tr>\n",
       "    <tr>\n",
       "      <th>1</th>\n",
       "      <td>1</td>\n",
       "      <td>z12tcdxa5k3bsvtqh04ccnaqusj1vvfju3s</td>\n",
       "      <td>Salim Tayara</td>\n",
       "      <td>2014-11-02T14:33:30</td>\n",
       "      <td>if your like drones, plz subscribe to Kamal Ta...</td>\n",
       "      <td>1</td>\n",
       "      <td>1</td>\n",
       "    </tr>\n",
       "    <tr>\n",
       "      <th>2</th>\n",
       "      <td>2</td>\n",
       "      <td>z12stpyqaonsercxw04cjbr4dlnrxd34soo0k</td>\n",
       "      <td>Phuc Ly</td>\n",
       "      <td>2014-01-20T15:27:47</td>\n",
       "      <td>go here to check the views :3﻿</td>\n",
       "      <td>0</td>\n",
       "      <td>1</td>\n",
       "    </tr>\n",
       "    <tr>\n",
       "      <th>3</th>\n",
       "      <td>3</td>\n",
       "      <td>z13autsqgzblcx3w104chr4r2kexd10rxc0</td>\n",
       "      <td>DropShotSk8r</td>\n",
       "      <td>2014-01-19T04:27:18</td>\n",
       "      <td>Came here to check the views, goodbye.﻿</td>\n",
       "      <td>0</td>\n",
       "      <td>1</td>\n",
       "    </tr>\n",
       "    <tr>\n",
       "      <th>4</th>\n",
       "      <td>4</td>\n",
       "      <td>z13qgpqwlqbgj5jqy04cgnjqruv0gpdaino0k</td>\n",
       "      <td>css403</td>\n",
       "      <td>2014-11-07T14:25:48</td>\n",
       "      <td>i am 2,126,492,636 viewer :D﻿</td>\n",
       "      <td>0</td>\n",
       "      <td>1</td>\n",
       "    </tr>\n",
       "  </tbody>\n",
       "</table>\n",
       "</div>"
      ],
      "text/plain": [
       "   index                             comment_id            author  \\\n",
       "0      0  z13ky1cgzpjpvdpp004chhebvqnkhnpjmzo0k  Alessandro leite   \n",
       "1      1    z12tcdxa5k3bsvtqh04ccnaqusj1vvfju3s      Salim Tayara   \n",
       "2      2  z12stpyqaonsercxw04cjbr4dlnrxd34soo0k           Phuc Ly   \n",
       "3      3    z13autsqgzblcx3w104chr4r2kexd10rxc0      DropShotSk8r   \n",
       "4      4  z13qgpqwlqbgj5jqy04cgnjqruv0gpdaino0k            css403   \n",
       "\n",
       "                  date                                               text  \\\n",
       "0  2014-11-05T22:21:36  pls http://www10.vakinha.com.br/VaquinhaE.aspx...   \n",
       "1  2014-11-02T14:33:30  if your like drones, plz subscribe to Kamal Ta...   \n",
       "2  2014-01-20T15:27:47                     go here to check the views :3﻿   \n",
       "3  2014-01-19T04:27:18            Came here to check the views, goodbye.﻿   \n",
       "4  2014-11-07T14:25:48                      i am 2,126,492,636 viewer :D﻿   \n",
       "\n",
       "   label  video  \n",
       "0      1      1  \n",
       "1      1      1  \n",
       "2      0      1  \n",
       "3      0      1  \n",
       "4      0      1  "
      ]
     },
     "execution_count": 3,
     "metadata": {},
     "output_type": "execute_result"
    }
   ],
   "source": [
    "# Take a look at the first 5 rows\n",
    "df_labeled.head()"
   ]
  },
  {
   "cell_type": "markdown",
   "metadata": {},
   "source": [
    "## Further inspection and preprocessing\n",
    "\n",
    "\n",
    "### Checking for data imbalance\n",
    "\n",
    "It is fairly common to assume that the data you are working on is balanced. This means that the dataset contains a similar proportion of examples for all classes. Before moving forward let's actually test this assumption:"
   ]
  },
  {
   "cell_type": "code",
   "execution_count": 4,
   "metadata": {},
   "outputs": [
    {
     "name": "stdout",
     "output_type": "stream",
     "text": [
      "Value counts for each class:\n",
      "\n",
      "1    1005\n",
      "0     951\n",
      "Name: label, dtype: int64\n",
      "\n"
     ]
    },
    {
     "data": {
      "image/png": "[encoded data removed]",
      "text/plain": [
       "<Figure size 432x288 with 1 Axes>"
      ]
     },
     "metadata": {},
     "output_type": "display_data"
    }
   ],
   "source": [
    "# Print actual value count\n",
    "print(f\"Value counts for each class:\\n\\n{df_labeled.label.value_counts()}\\n\")\n",
    "\n",
    "# Display pie chart to visually check the proportion\n",
    "df_labeled.label.value_counts().plot.pie(y='label', title='Proportion of each class')\n",
    "plt.show()"
   ]
  },
  {
   "cell_type": "markdown",
   "metadata": {},
   "source": [
    "There is roughly the same number of data points for each class so class imbalance is not an issue for this particular dataset.\n",
    "\n",
    "\n",
    "### Cleaning the dataset\n",
    "\n",
    "If you scroll back to the cell where  you inspected the data, you will realize that the dataframe includes information that is not relevant for the task at hand. At the moment, you are only interested in the comments and the corresponding labels (the video that each comment belongs to will be used later). Let's drop the remaining columns."
   ]
  },
  {
   "cell_type": "code",
   "execution_count": 5,
   "metadata": {},
   "outputs": [
    {
     "data": {
      "text/html": [
       "<div>\n",
       "<style scoped>\n",
       "    .dataframe tbody tr th:only-of-type {\n",
       "        vertical-align: middle;\n",
       "    }\n",
       "\n",
       "    .dataframe tbody tr th {\n",
       "        vertical-align: top;\n",
       "    }\n",
       "\n",
       "    .dataframe thead th {\n",
       "        text-align: right;\n",
       "    }\n",
       "</style>\n",
       "<table border=\"1\" class=\"dataframe\">\n",
       "  <thead>\n",
       "    <tr style=\"text-align: right;\">\n",
       "      <th></th>\n",
       "      <th>text</th>\n",
       "      <th>label</th>\n",
       "      <th>video</th>\n",
       "    </tr>\n",
       "  </thead>\n",
       "  <tbody>\n",
       "    <tr>\n",
       "      <th>0</th>\n",
       "      <td>pls http://www10.vakinha.com.br/VaquinhaE.aspx...</td>\n",
       "      <td>1</td>\n",
       "      <td>1</td>\n",
       "    </tr>\n",
       "    <tr>\n",
       "      <th>1</th>\n",
       "      <td>if your like drones, plz subscribe to Kamal Ta...</td>\n",
       "      <td>1</td>\n",
       "      <td>1</td>\n",
       "    </tr>\n",
       "    <tr>\n",
       "      <th>2</th>\n",
       "      <td>go here to check the views :3﻿</td>\n",
       "      <td>0</td>\n",
       "      <td>1</td>\n",
       "    </tr>\n",
       "    <tr>\n",
       "      <th>3</th>\n",
       "      <td>Came here to check the views, goodbye.﻿</td>\n",
       "      <td>0</td>\n",
       "      <td>1</td>\n",
       "    </tr>\n",
       "    <tr>\n",
       "      <th>4</th>\n",
       "      <td>i am 2,126,492,636 viewer :D﻿</td>\n",
       "      <td>0</td>\n",
       "      <td>1</td>\n",
       "    </tr>\n",
       "  </tbody>\n",
       "</table>\n",
       "</div>"
      ],
      "text/plain": [
       "                                                text  label  video\n",
       "0  pls http://www10.vakinha.com.br/VaquinhaE.aspx...      1      1\n",
       "1  if your like drones, plz subscribe to Kamal Ta...      1      1\n",
       "2                     go here to check the views :3﻿      0      1\n",
       "3            Came here to check the views, goodbye.﻿      0      1\n",
       "4                      i am 2,126,492,636 viewer :D﻿      0      1"
      ]
     },
     "execution_count": 5,
     "metadata": {},
     "output_type": "execute_result"
    }
   ],
   "source": [
    "# Drop unused columns\n",
    "df_labeled = df_labeled.drop(['index', 'comment_id', 'author', 'date'], axis=1)\n",
    "\n",
    "# Look at the cleaned dataset\n",
    "df_labeled.head()"
   ]
  },
  {
   "cell_type": "markdown",
   "metadata": {},
   "source": [
    "Now the dataset only includes the information you are going to use moving forward.\n",
    "\n",
    "### Splitting the dataset\n",
    "\n",
    "Before jumping to the data labeling section let's split the data into training and test sets so you can use the latter to measure the performance of models that were trained using data labeled through different methods. As a safety measure when doing this split, remember to use stratification so the proportion of classes is maintained within each split."
   ]
  },
  {
   "cell_type": "code",
   "execution_count": 6,
   "metadata": {},
   "outputs": [
    {
     "name": "stdout",
     "output_type": "stream",
     "text": [
      "There are 1564 comments for training.\n",
      "There are 392 comments for testing\n"
     ]
    }
   ],
   "source": [
    "from sklearn.model_selection import train_test_split\n",
    "\n",
    "# Save the text into the X variable\n",
    "X = df_labeled.drop(\"label\", axis=1)\n",
    "\n",
    "# Save the true labels into the y variable\n",
    "y = df_labeled[\"label\"]\n",
    "\n",
    "# Use 1/5 of the data for testing later\n",
    "X_train, X_test, y_train, y_test = train_test_split(X, y, test_size=0.2, random_state=42, stratify=y)\n",
    "\n",
    "# Print number of comments for each set\n",
    "print(f\"There are {X_train.shape[0]} comments for training.\")\n",
    "print(f\"There are {X_test.shape[0]} comments for testing\")"
   ]
  },
  {
   "cell_type": "markdown",
   "metadata": {},
   "source": [
    "Let's do a visual to check that the stratification actually worked:"
   ]
  },
  {
   "cell_type": "code",
   "execution_count": 7,
   "metadata": {},
   "outputs": [
    {
     "data": {
      "image/png": "[encoded data removed]",
      "text/plain": [
       "<Figure size 720x432 with 2 Axes>"
      ]
     },
     "metadata": {},
     "output_type": "display_data"
    }
   ],
   "source": [
    "plt.subplot(1, 3, 1)\n",
    "y_train.value_counts().plot.pie(y='label', title='Proportion of each class for train set', figsize=(10, 6))\n",
    "\n",
    "plt.subplot(1, 3, 3)\n",
    "y_test.value_counts().plot.pie(y='label', title='Proportion of each class for test set', figsize=(10, 6))\n",
    "\n",
    "plt.tight_layout()\n",
    "plt.show()"
   ]
  },
  {
   "cell_type": "markdown",
   "metadata": {},
   "source": [
    "Both, the training and test sets a balanced proportion of examples per class. So, the code successfully implemented stratification.  \n",
    "\n",
    "Let's get going!"
   ]
  },
  {
   "cell_type": "markdown",
   "metadata": {},
   "source": [
    "## Data Labeling\n",
    "\n",
    "### Establishing a baseline with random sampling"
   ]
  },
  {
   "cell_type": "markdown",
   "metadata": {},
   "source": [
    "To properly compare different labeling strategies you need to establish a baseline for model accuracy. Generating random  labels is a natural way to establish such baseline. You will expect that any successful alternative labeling model to outperform randomly generated labels. Let's go over the process of implementing a baseline. "
   ]
  },
  {
   "cell_type": "markdown",
   "metadata": {},
   "source": [
    "[CountVectorizer](https://scikit-learn.org/stable/modules/generated/sklearn.feature_extraction.text.CountVectorizer.html#sklearn.feature_extraction.text.CountVectorizer) is a handy tool included in the sklearn ecosystem to encode text based data.\n",
    "\n",
    "For more information on how to work with text data using sklearn check out this [resource](https://scikit-learn.org/stable/tutorial/text_analytics/working_with_text_data.html)."
   ]
  },
  {
   "cell_type": "code",
   "execution_count": 8,
   "metadata": {},
   "outputs": [],
   "source": [
    "from sklearn.feature_extraction.text import CountVectorizer\n",
    "\n",
    "# Allow unigrams and bigrams\n",
    "vectorizer = CountVectorizer(ngram_range=(1, 5))"
   ]
  },
  {
   "cell_type": "markdown",
   "metadata": {},
   "source": [
    "Now that the text encoding is defined, you need to select a model to make predictions. For simplicity you will use a [Multinomial Naive Bayes](https://scikit-learn.org/stable/modules/generated/sklearn.naive_bayes.MultinomialNB.html) classifier. This model is well suited for text classification and is fairly quick to train.\n",
    "\n",
    "Let's define a function which will handle the model fitting and print out the accuracy on the test data:"
   ]
  },
  {
   "cell_type": "code",
   "execution_count": 9,
   "metadata": {},
   "outputs": [],
   "source": [
    "from sklearn.metrics import accuracy_score\n",
    "from sklearn.naive_bayes import MultinomialNB\n",
    "\n",
    "\n",
    "def calculate_accuracy(X_tr, y_tr, X_te=X_test, y_te=y_test, \n",
    "                       clf=MultinomialNB(), vectorizer=vectorizer):\n",
    "    \n",
    "    # Encode train text\n",
    "    X_train_vect = vectorizer.fit_transform(X_tr.text.tolist())\n",
    "    \n",
    "    # Fit model\n",
    "    clf.fit(X=X_train_vect, y=y_tr)\n",
    "    \n",
    "    # Vectorize test text\n",
    "    X_test_vect = vectorizer.transform(X_te.text.tolist())\n",
    "    \n",
    "    # Make predictions for the test set\n",
    "    preds = clf.predict(X_test_vect)\n",
    "    \n",
    "    # Return accuracy score\n",
    "    return accuracy_score(preds, y_te)\n"
   ]
  },
  {
   "cell_type": "markdown",
   "metadata": {},
   "source": [
    "Now let's create a dictionary  to store the accuracy of each labeling method:"
   ]
  },
  {
   "cell_type": "code",
   "execution_count": 10,
   "metadata": {},
   "outputs": [],
   "source": [
    "# Empty dictionary\n",
    "accs = dict()"
   ]
  },
  {
   "cell_type": "markdown",
   "metadata": {},
   "source": [
    "### Random Labeling\n",
    "\n",
    "Now let's calculate the accuracy for the random labeling method"
   ]
  },
  {
   "cell_type": "code",
   "execution_count": 11,
   "metadata": {},
   "outputs": [
    {
     "data": {
      "text/plain": [
       "0.5331632653061225"
      ]
     },
     "execution_count": 11,
     "metadata": {},
     "output_type": "execute_result"
    }
   ],
   "source": [
    "# Calculate random labels\n",
    "rnd_labels = np.random.randint(0, 2, X_train.shape[0])\n",
    "\n",
    "# Feed them alongside X_train to calculate_accuracy function\n",
    "rnd_acc = calculate_accuracy(X_train, rnd_labels)\n",
    "\n",
    "rnd_acc"
   ]
  },
  {
   "cell_type": "markdown",
   "metadata": {},
   "source": [
    "You will see a different accuracy everytime you run the previous cell. This is due to the fact that the labeling is done randomly. Remember, this is a binary classification problem and both classes are balanced, so you can expect to see accuracies that revolve around 50%.\n",
    "\n",
    "To further gain intuition let's look at the average accuracy over 10 runs:"
   ]
  },
  {
   "cell_type": "code",
   "execution_count": 12,
   "metadata": {},
   "outputs": [
    {
     "name": "stdout",
     "output_type": "stream",
     "text": [
      "The random labelling method achieved and accuracy of 47.04%\n"
     ]
    }
   ],
   "source": [
    "# Empty list to save accuracies\n",
    "rnd_accs = []\n",
    "\n",
    "for _ in range(10):\n",
    "    # Add every accuracy to the list\n",
    "    rnd_accs.append(calculate_accuracy(X_train, np.random.randint(0, 2, X_train.shape[0])))\n",
    "\n",
    "# Save result in accs dictionary\n",
    "accs['random-labels'] = sum(rnd_accs)/len(rnd_accs)\n",
    "\n",
    "# Print result\n",
    "print(f\"The random labelling method achieved and accuracy of {accs['random-labels']*100:.2f}%\")"
   ]
  },
  {
   "cell_type": "markdown",
   "metadata": {},
   "source": [
    "Random labelling is completely disregarding the information from the solution space you are working on, and is just guessing the correct label. You can't probably do worse than this (or maybe you can). For this reason, this method serves as a baseline for comparing other labeling methods\n",
    "\n",
    "\n",
    "### Labeling with true values\n",
    "\n",
    "Now let's look at the other end of the spectrum, this is using the correct labels for your data points. Let's retrain the Multinomial Naive Bayes classifier with the actual labels "
   ]
  },
  {
   "cell_type": "code",
   "execution_count": 13,
   "metadata": {},
   "outputs": [
    {
     "name": "stdout",
     "output_type": "stream",
     "text": [
      "The true labelling method achieved and accuracy of 89.03%\n"
     ]
    }
   ],
   "source": [
    "# Calculate accuracy when using the true labels\n",
    "true_acc = calculate_accuracy(X_train, y_train)\n",
    "\n",
    "# Save the result\n",
    "accs['true-labels'] = true_acc\n",
    "\n",
    "print(f\"The true labelling method achieved and accuracy of {accs['true-labels']*100:.2f}%\")"
   ]
  },
  {
   "cell_type": "markdown",
   "metadata": {},
   "source": [
    "Training with the true labels produced a noticeable boost in accuracy. This is expected as the classifier is now able to properly identify patterns in the training data which were lacking with randomly generated labels. \n",
    "\n",
    "Notice that the accuracy is not at >99%. Achieving higher accuracy is possible by either fine-tunning the model or even selecting different one. For the time being you will keep the model as it is and use this accuracy as what we should strive for with the automatic labeling algorithms you will see next."
   ]
  },
  {
   "cell_type": "markdown",
   "metadata": {},
   "source": [
    "## Enter Snorkel"
   ]
  },
  {
   "cell_type": "markdown",
   "metadata": {},
   "source": [
    "Snorkel is a flexible library that provides functionality for developing end to end machine learning pipelines. It is most commonly known for it's utilities to clean and label datasets by combining heuristics with weak supervision approaches. You will see different attempts at defining automatic labelling rules using Snorkel and compare those against the previously established baselines.\n",
    "\n",
    "First things first. Let's define some handy global variables:\n",
    "- `SPAM` is represented by 1\n",
    "\n",
    "\n",
    "- `NOT_SPAM` by 0 \n",
    "\n",
    "\n",
    "- `ABSTAIN` (or no label) as -1\n",
    "\n",
    "\n",
    "You might be wondering about the `ABSTAIN` keyword. Depending on the rules you come up with Snorkel might be unable to perform the automatic labeling. In such cases it should let you know this is the case so you can decide on how to proceed with these cases."
   ]
  },
  {
   "cell_type": "code",
   "execution_count": 14,
   "metadata": {},
   "outputs": [],
   "source": [
    "ABSTAIN = -1\n",
    "NOT_SPAM = 0\n",
    "SPAM = 1"
   ]
  },
  {
   "cell_type": "markdown",
   "metadata": {},
   "source": [
    "### First iteration\n",
    "\n",
    "There are many ways to define labeling rules in Snorkel. One of the more straightforward ones is by using `labeling functions`. One example of such function is: \"if the comment contains the word 'free' classify it as SPAM\".\n",
    "\n",
    "To use this functionality you can create simple functions that return one of the tags depending on a rule and decorate them using snorkel's [`labeling_function`](https://snorkel.readthedocs.io/en/v0.9.3/packages/_autosummary/labeling/snorkel.labeling.labeling_function.html) decorator.\n",
    "\n",
    "For this first iteration you will create three  labeling functions based on the intuition of common patterns that appear on SPAM comments. The rules are simple, classify as SPAM if any of the following patterns is present within the comment or ABSTAIN otherwise:\n",
    "- `free` - spam comments usually lure users by promoting free stuff\n",
    "- `check out` - spam comments tend to ask users to check out some website or channel\n",
    "- `http` - spam comments include links very frequently"
   ]
  },
  {
   "cell_type": "code",
   "execution_count": 15,
   "metadata": {},
   "outputs": [],
   "source": [
    "from snorkel.labeling import labeling_function\n",
    "\n",
    "@labeling_function()\n",
    "def lf_keyword_free(x):\n",
    "    return SPAM if \"free\" in x.text.lower() else ABSTAIN\n",
    "\n",
    "\n",
    "@labeling_function()\n",
    "def lf_regex_check_out(x):\n",
    "    return SPAM if re.search(r\"check.*out\", x.text, flags=re.I) else ABSTAIN\n",
    "\n",
    "\n",
    "@labeling_function()\n",
    "def lf_contains_link(x):\n",
    "    return SPAM if \"http\" in x.text.lower() else ABSTAIN"
   ]
  },
  {
   "cell_type": "markdown",
   "metadata": {},
   "source": [
    "Now that the labeling rules have been defined, these can be applied to the data by using a [`PandasLFApplier`](https://snorkel.readthedocs.io/en/v0.9.7/packages/_autosummary/labeling/snorkel.labeling.PandasLFApplier.html) object. Snorkel provides several ways of applying rules to data in different formats. Since the data is in a dataframe, this is the best way to perform this.\n",
    "\n",
    "The steps  needed for this process are:\n",
    "1. create a list containing all of the labeling functions.  \n",
    "2. create an instance of the `PandasLFApplier` class and pass the list of functions to it. \n",
    "3. use the applier to apply the rules to the dataframe.\n",
    "\n",
    "The applier will return a numpy array called the **label matrix** which has a row for each data point and a column for each rule. Every entry of this matrix corresponds to the label that snorkel will give to that data point given that rule. \n",
    "\n",
    "In this case there are 1564 data points in the training set and you have just defined 3 rules so the resulting label matrix should have shape (1564, 3)."
   ]
  },
  {
   "cell_type": "code",
   "execution_count": 16,
   "metadata": {},
   "outputs": [
    {
     "name": "stderr",
     "output_type": "stream",
     "text": [
      "100%|██████████| 1564/1564 [00:00<00:00, 18177.34it/s]\n"
     ]
    }
   ],
   "source": [
    "from snorkel.labeling import PandasLFApplier\n",
    "\n",
    "\n",
    "# Create list of labeling functions\n",
    "lfs = [lf_keyword_free, lf_regex_check_out, lf_contains_link]\n",
    "\n",
    "# Define the apply_rules function to use it later\n",
    "def apply_rules(df, lfs):\n",
    "    applier = PandasLFApplier(lfs=lfs)\n",
    "    L_train = applier.apply(df=df)\n",
    "    return L_train\n",
    "\n",
    "\n",
    "# Compute label matrix\n",
    "L_train = apply_rules(X_train, lfs)"
   ]
  },
  {
   "cell_type": "markdown",
   "metadata": {},
   "source": [
    "Snorkel  provides another cool object, [`LFAnalysis`](https://snorkel.readthedocs.io/en/master/packages/_autosummary/labeling/snorkel.labeling.LFAnalysis.html), which computes some descriptive statistics on the labeling functions using the label matrix."
   ]
  },
  {
   "cell_type": "code",
   "execution_count": 17,
   "metadata": {},
   "outputs": [
    {
     "name": "stdout",
     "output_type": "stream",
     "text": [
      "Label matrix looks like this:\n",
      "\n",
      "[[-1 -1 -1]\n",
      " [-1 -1 -1]\n",
      " [-1 -1 -1]\n",
      " ...\n",
      " [-1 -1 -1]\n",
      " [-1 -1 -1]\n",
      " [-1 -1 -1]]\n",
      "\n",
      "and has shape (1564, 3)\n",
      "\n",
      "Labeling functions analysis:\n",
      "\n"
     ]
    },
    {
     "data": {
      "text/html": [
       "<div>\n",
       "<style scoped>\n",
       "    .dataframe tbody tr th:only-of-type {\n",
       "        vertical-align: middle;\n",
       "    }\n",
       "\n",
       "    .dataframe tbody tr th {\n",
       "        vertical-align: top;\n",
       "    }\n",
       "\n",
       "    .dataframe thead th {\n",
       "        text-align: right;\n",
       "    }\n",
       "</style>\n",
       "<table border=\"1\" class=\"dataframe\">\n",
       "  <thead>\n",
       "    <tr style=\"text-align: right;\">\n",
       "      <th></th>\n",
       "      <th>j</th>\n",
       "      <th>Polarity</th>\n",
       "      <th>Coverage</th>\n",
       "      <th>Overlaps</th>\n",
       "      <th>Conflicts</th>\n",
       "    </tr>\n",
       "  </thead>\n",
       "  <tbody>\n",
       "    <tr>\n",
       "      <th>lf_keyword_free</th>\n",
       "      <td>0</td>\n",
       "      <td>[1]</td>\n",
       "      <td>0.023657</td>\n",
       "      <td>0.013427</td>\n",
       "      <td>0.0</td>\n",
       "    </tr>\n",
       "    <tr>\n",
       "      <th>lf_regex_check_out</th>\n",
       "      <td>1</td>\n",
       "      <td>[1]</td>\n",
       "      <td>0.221867</td>\n",
       "      <td>0.012788</td>\n",
       "      <td>0.0</td>\n",
       "    </tr>\n",
       "    <tr>\n",
       "      <th>lf_contains_link</th>\n",
       "      <td>2</td>\n",
       "      <td>[1]</td>\n",
       "      <td>0.102302</td>\n",
       "      <td>0.016624</td>\n",
       "      <td>0.0</td>\n",
       "    </tr>\n",
       "  </tbody>\n",
       "</table>\n",
       "</div>"
      ],
      "text/plain": [
       "                    j Polarity  Coverage  Overlaps  Conflicts\n",
       "lf_keyword_free     0      [1]  0.023657  0.013427        0.0\n",
       "lf_regex_check_out  1      [1]  0.221867  0.012788        0.0\n",
       "lf_contains_link    2      [1]  0.102302  0.016624        0.0"
      ]
     },
     "execution_count": 17,
     "metadata": {},
     "output_type": "execute_result"
    }
   ],
   "source": [
    "from snorkel.labeling import LFAnalysis\n",
    "\n",
    "# Print label matrix\n",
    "print(f\"Label matrix looks like this:\\n\\n{L_train}\\n\")\n",
    "\n",
    "# Print shape of label matrix\n",
    "print(f\"and has shape {L_train.shape}\\n\")\n",
    "\n",
    "# Output useful statistics\n",
    "print(\"Labeling functions analysis:\\n\")\n",
    "LFAnalysis(L=L_train, lfs=lfs).lf_summary()"
   ]
  },
  {
   "cell_type": "markdown",
   "metadata": {},
   "source": [
    "The 3 rules you defined produced no conflicts so far. However, when you increase the number of labeling functions it is a common scenario for them to conflict when deciding on the appropiate label for a data point. In general, snorkel is aware that labeling functions are not perfect. In fact it is aware that they are usually **noisy, innacurate and overlapping**.\n",
    "\n",
    "With this in mind, snorkel provides the [`LabelModel`](https://snorkel.readthedocs.io/en/v0.9.7/packages/_autosummary/labeling/snorkel.labeling.model.label_model.LabelModel.html) object, which will decide on the best label for each data point. Quoting from the official docs: \n",
    "\n",
    "\"This class learns a model of the labeling functions’ conditional probabilities of outputting the true (unobserved) label Y, P(lf | Y), and uses this learned model to re-weight and combine their output labels.\"\n",
    "\n",
    "If you are interesting on how this is done be sure to check [this tutorial](https://www.snorkel.org/use-cases/01-spam-tutorial), to have a better understading of this process. At a high level explanation just know that given a set of noisy labeling functions this object will find the best combination of these rules to output the most realistic set of labels.\n",
    "\n",
    "This API is really similar to sklearn's, having the `fit` and `predict` methods. Let's put it to work:"
   ]
  },
  {
   "cell_type": "code",
   "execution_count": 18,
   "metadata": {},
   "outputs": [],
   "source": [
    "from snorkel.labeling.model import LabelModel\n",
    "\n",
    "# Define automatic_labeling function to use it latter on\n",
    "def automatic_labeling(L_train):\n",
    "    \"\"\"Train the label model and compute the training labels\"\"\"\n",
    "    # Create an instance of the LabelModel class\n",
    "    label_model = LabelModel(cardinality=2, verbose=True)\n",
    "    \n",
    "    # Fit the model\n",
    "    label_model.fit(L_train, n_epochs=500, log_freq=50, seed=123)\n",
    "    \n",
    "    # Return the predictions\n",
    "    return label_model.predict(L=L_train)"
   ]
  },
  {
   "cell_type": "markdown",
   "metadata": {},
   "source": [
    "With this setup the automatic_labeling function is ready to perform automatic labeling on the training data. This step uses the rules you previously defined."
   ]
  },
  {
   "cell_type": "code",
   "execution_count": 19,
   "metadata": {},
   "outputs": [
    {
     "name": "stdout",
     "output_type": "stream",
     "text": [
      "predictions have shape: (1564,)\n"
     ]
    },
    {
     "data": {
      "text/plain": [
       "array([-1, -1, -1, ..., -1, -1, -1])"
      ]
     },
     "execution_count": 19,
     "metadata": {},
     "output_type": "execute_result"
    }
   ],
   "source": [
    "# Compute predicted labels\n",
    "preds = automatic_labeling(L_train)\n",
    "\n",
    "# Shape of predicted labels\n",
    "print(f\"predictions have shape: {preds.shape}\")\n",
    "\n",
    "# Take a look at predicted labels\n",
    "preds"
   ]
  },
  {
   "cell_type": "markdown",
   "metadata": {},
   "source": [
    "For lots of points the labeling algorithm decided to abstain which was already hinted at by the low coverage showed by the `LFAnalysis`. These points should be deleted since they don't provide information about the classification process and tend to hurt performance."
   ]
  },
  {
   "cell_type": "code",
   "execution_count": 20,
   "metadata": {},
   "outputs": [
    {
     "name": "stdout",
     "output_type": "stream",
     "text": [
      "Predictions with concrete label have shape: (510,)\n",
      "Proportion of data points kept: 32.61%\n"
     ]
    }
   ],
   "source": [
    "# Create the automatic labeled version of X_train by removing points with ABSTAIN label\n",
    "X_train_al = X_train[preds != ABSTAIN]\n",
    "\n",
    "# Remove predictions with ABSTAIN label\n",
    "preds_al = preds[preds != ABSTAIN]\n",
    "\n",
    "print(f\"Predictions with concrete label have shape: {preds_al.shape}\")\n",
    "\n",
    "print(f\"Proportion of data points kept: {preds_al.shape[0]/preds.shape[0]*100:.2f}%\")"
   ]
  },
  {
   "cell_type": "markdown",
   "metadata": {},
   "source": [
    "Notice that only 510 data points remained  out of the original 1564. The rules defined didn't provide enough context for snorkel to settle on a label, so around 2/3 of the data has been trimmed.\n",
    "\n",
    "Let's test the accuracy of the model when using these automatic generated labels:"
   ]
  },
  {
   "cell_type": "code",
   "execution_count": 21,
   "metadata": {},
   "outputs": [
    {
     "name": "stdout",
     "output_type": "stream",
     "text": [
      "First iteration of automatic labeling has an accuracy of 47.45%\n"
     ]
    }
   ],
   "source": [
    "# Compute accuracy when using these labels\n",
    "snorkl_1_acc = calculate_accuracy(X_train_al, preds_al)\n",
    "\n",
    "# Display accuracy\n",
    "print(f\"First iteration of automatic labeling has an accuracy of {snorkl_1_acc*100:.2f}%\")\n",
    "\n",
    "# Save the result\n",
    "accs['snorkel-first-iteration'] = snorkl_1_acc"
   ]
  },
  {
   "cell_type": "markdown",
   "metadata": {},
   "source": [
    "Let's compare this accuracy to the baselines by plotting:"
   ]
  },
  {
   "cell_type": "code",
   "execution_count": 22,
   "metadata": {},
   "outputs": [
    {
     "data": {
      "image/png": "[encoded data removed]",
      "text/plain": [
       "<Figure size 432x288 with 1 Axes>"
      ]
     },
     "metadata": {
      "needs_background": "light"
     },
     "output_type": "display_data"
    }
   ],
   "source": [
    "def plot_accuracies(accs=accs):\n",
    "    colors = list(\"rgbcmy\")\n",
    "    items_num = len(accs)\n",
    "    cont = 1\n",
    "\n",
    "    for x, y in accs.items():\n",
    "        if x in ['true-labels', 'random-labels', 'true-labels-best-clf']:\n",
    "            plt.hlines(y, 0, (items_num-2)*2, colors=colors.pop())\n",
    "        else:\n",
    "            plt.scatter(cont, y, s=100)\n",
    "            cont+=2\n",
    "    plt.legend(accs.keys(), loc=\"center left\",bbox_to_anchor=(1, 0.5))\n",
    "    plt.show()\n",
    "    \n",
    "plot_accuracies()"
   ]
  },
  {
   "cell_type": "markdown",
   "metadata": {},
   "source": [
    "This first iteration had an accuracy even worse than the random labeling baseline model. This is probably because we are using only 1/3 of the available data. Going forward we should come up with rules that have a better coverage of the training data, and thus making pattern discovery an easier task. This should help snorkel perform the automatic labeling more accurately."
   ]
  },
  {
   "cell_type": "markdown",
   "metadata": {},
   "source": [
    "Before moving forward let's define the `label_given_rules` function that performs all of the steps you just saw, these are: \n",
    "- Computing the label matrix given the data and a set of rules\n",
    "- Use LabelModel to get the predicted labels for each data point\n",
    "- Delete all data points for which snorkel was unable to settle on a label\n",
    "- Calculate the accuracy of the model using the automatic labels\n",
    "- Save the accuracy for plotting"
   ]
  },
  {
   "cell_type": "code",
   "execution_count": 23,
   "metadata": {},
   "outputs": [],
   "source": [
    "def label_given_rules(df, lfs, clf, name, X_te=X_test, y_te=y_test, accs_dict=accs, verbose=True):\n",
    "    # Compute label matrix\n",
    "    L_train = apply_rules(df, lfs)\n",
    "    \n",
    "    # Perform automatic labeling\n",
    "    preds = automatic_labeling(L_train)\n",
    "    \n",
    "    # Save initial number of data points\n",
    "    initial_size = preds.shape[0]\n",
    "    \n",
    "    # Trim points with ABSTAIN label\n",
    "    X_train_al = df[preds != ABSTAIN]\n",
    "    preds = preds[preds != ABSTAIN]\n",
    "    \n",
    "    # Save number of data points after trimming\n",
    "    final_size = preds.shape[0]\n",
    "    \n",
    "    # Compute accuracy\n",
    "    acc = calculate_accuracy(X_train_al, preds, clf=clf, X_te=X_te, y_te=y_te)\n",
    "    \n",
    "    # Print useful information\n",
    "    if verbose:\n",
    "        print(f\"Proportion of data points kept: {final_size/initial_size*100:.2f}%\\n\")\n",
    "        print(f\"{name} labeling has an accuracy of {acc*100:.2f}%\\n\")\n",
    "        \n",
    "    # Save accuracy to accuracies dictionary\n",
    "    accs_dict[name] = acc\n",
    "    \n",
    "    return X_train_al, preds, acc"
   ]
  },
  {
   "cell_type": "markdown",
   "metadata": {},
   "source": [
    "A natural follow up question is how can you come up with better labeling rules.\n",
    "\n",
    "For instance, note that the rules previously defined only output SPAM or ABSTAIN, so they didn't include any patterns for classifying NOT_SPAM. Perhaps adding rules for NOT_SPAM might help."
   ]
  },
  {
   "cell_type": "markdown",
   "metadata": {},
   "source": [
    "### Second iteration - Coming up with better rules\n",
    "\n",
    "In the previous section we explicitly coded all of the labeling function even if they had a very similar structure.\n",
    "\n",
    "Now you are going to define a general function `keyword_lookup`, which has a common structure regardless of the word or label. This function can be wrapped using the [`LabelingFunction`](https://snorkel.readthedocs.io/en/v0.9.7/packages/_autosummary/labeling/snorkel.labeling.LabelingFunction.html) object and this can be returned by the `make_keyword_lf` to create a sort of closure. \n",
    "\n",
    "This is very similar to what happens when using the `@labeling_function` decorator. If you are familiar with closures this should be easy to understand, if not, it is sufficient to know that you are achieving the same result via this method or by using the decorator. In this sense every `make_keyword_lf` will be a labeling function."
   ]
  },
  {
   "cell_type": "code",
   "execution_count": 24,
   "metadata": {},
   "outputs": [],
   "source": [
    "from snorkel.labeling import LabelingFunction\n",
    "\n",
    "\n",
    "def keyword_lookup(x, keywords, label):\n",
    "    if any(re.search(word, x.text.lower(), flags=re.I) for word in keywords):\n",
    "        return label\n",
    "    return ABSTAIN\n",
    "\n",
    "\n",
    "def make_keyword_lf(keywords, label=SPAM):\n",
    "    return LabelingFunction(\n",
    "        name=f\"keyword_{keywords[0]}\",\n",
    "        f=keyword_lookup,\n",
    "        resources=dict(keywords=keywords, label=label),\n",
    "    )\n",
    "\n",
    "keyword_my = make_keyword_lf(keywords=[\"my\"])\n",
    "keyword_subscribe = make_keyword_lf(keywords=[\"subscribe\"])\n",
    "keyword_link = make_keyword_lf(keywords=[\"http\"])\n",
    "keyword_please = make_keyword_lf(keywords=[\"please\", \"plz\"])\n",
    "keyword_song = make_keyword_lf(keywords=[\"song\"], label=NOT_SPAM)"
   ]
  },
  {
   "cell_type": "markdown",
   "metadata": {},
   "source": [
    "By default the function classifies examples as SPAM but this can be changed by using the optional parameter `label`. In this case we have included a rule for classifying as NOT_SPAM when the keyword \"song\" is present in the comment.\n",
    "\n",
    "The other rules are very similar to the first iteration: classify as SPAM if the keywords \"my\", \"subscribe\", \"http\", \"please\" or \"plz\" appear in the comments as these are very common among SPAM comments.\n",
    "\n",
    "Let's run the rules over the training data, retrieve the label matrix and print out useful statistics:"
   ]
  },
  {
   "cell_type": "code",
   "execution_count": 25,
   "metadata": {},
   "outputs": [
    {
     "name": "stderr",
     "output_type": "stream",
     "text": [
      "100%|██████████| 1564/1564 [00:00<00:00, 7484.50it/s]\n"
     ]
    }
   ],
   "source": [
    "# Create list of labeling functions\n",
    "lfs = [keyword_my, lf_regex_check_out, keyword_link, keyword_subscribe, keyword_please, keyword_song]\n",
    "\n",
    "# Compute label matrix\n",
    "L_train = apply_rules(X_train, lfs)"
   ]
  },
  {
   "cell_type": "code",
   "execution_count": 26,
   "metadata": {},
   "outputs": [
    {
     "name": "stdout",
     "output_type": "stream",
     "text": [
      "Labeling functions analysis:\n",
      "\n"
     ]
    },
    {
     "data": {
      "text/html": [
       "<div>\n",
       "<style scoped>\n",
       "    .dataframe tbody tr th:only-of-type {\n",
       "        vertical-align: middle;\n",
       "    }\n",
       "\n",
       "    .dataframe tbody tr th {\n",
       "        vertical-align: top;\n",
       "    }\n",
       "\n",
       "    .dataframe thead th {\n",
       "        text-align: right;\n",
       "    }\n",
       "</style>\n",
       "<table border=\"1\" class=\"dataframe\">\n",
       "  <thead>\n",
       "    <tr style=\"text-align: right;\">\n",
       "      <th></th>\n",
       "      <th>j</th>\n",
       "      <th>Polarity</th>\n",
       "      <th>Coverage</th>\n",
       "      <th>Overlaps</th>\n",
       "      <th>Conflicts</th>\n",
       "    </tr>\n",
       "  </thead>\n",
       "  <tbody>\n",
       "    <tr>\n",
       "      <th>keyword_my</th>\n",
       "      <td>0</td>\n",
       "      <td>[1]</td>\n",
       "      <td>0.192455</td>\n",
       "      <td>0.168159</td>\n",
       "      <td>0.034527</td>\n",
       "    </tr>\n",
       "    <tr>\n",
       "      <th>lf_regex_check_out</th>\n",
       "      <td>1</td>\n",
       "      <td>[1]</td>\n",
       "      <td>0.221867</td>\n",
       "      <td>0.098465</td>\n",
       "      <td>0.020460</td>\n",
       "    </tr>\n",
       "    <tr>\n",
       "      <th>keyword_http</th>\n",
       "      <td>2</td>\n",
       "      <td>[1]</td>\n",
       "      <td>0.102302</td>\n",
       "      <td>0.036445</td>\n",
       "      <td>0.006394</td>\n",
       "    </tr>\n",
       "    <tr>\n",
       "      <th>keyword_subscribe</th>\n",
       "      <td>3</td>\n",
       "      <td>[1]</td>\n",
       "      <td>0.126598</td>\n",
       "      <td>0.083120</td>\n",
       "      <td>0.008312</td>\n",
       "    </tr>\n",
       "    <tr>\n",
       "      <th>keyword_please</th>\n",
       "      <td>4</td>\n",
       "      <td>[1]</td>\n",
       "      <td>0.108056</td>\n",
       "      <td>0.096547</td>\n",
       "      <td>0.012148</td>\n",
       "    </tr>\n",
       "    <tr>\n",
       "      <th>keyword_song</th>\n",
       "      <td>5</td>\n",
       "      <td>[0]</td>\n",
       "      <td>0.159207</td>\n",
       "      <td>0.049872</td>\n",
       "      <td>0.049872</td>\n",
       "    </tr>\n",
       "  </tbody>\n",
       "</table>\n",
       "</div>"
      ],
      "text/plain": [
       "                    j Polarity  Coverage  Overlaps  Conflicts\n",
       "keyword_my          0      [1]  0.192455  0.168159   0.034527\n",
       "lf_regex_check_out  1      [1]  0.221867  0.098465   0.020460\n",
       "keyword_http        2      [1]  0.102302  0.036445   0.006394\n",
       "keyword_subscribe   3      [1]  0.126598  0.083120   0.008312\n",
       "keyword_please      4      [1]  0.108056  0.096547   0.012148\n",
       "keyword_song        5      [0]  0.159207  0.049872   0.049872"
      ]
     },
     "execution_count": 26,
     "metadata": {},
     "output_type": "execute_result"
    }
   ],
   "source": [
    "# Output useful statistics\n",
    "print(\"Labeling functions analysis:\\n\")\n",
    "LFAnalysis(L=L_train, lfs=lfs).lf_summary()"
   ]
  },
  {
   "cell_type": "markdown",
   "metadata": {},
   "source": [
    "This new set of rules makes a better job at covering the training dataset. This should result in snorkel abstaining less than in the first iteration.\n",
    "\n",
    "Let's check if this is the case."
   ]
  },
  {
   "cell_type": "code",
   "execution_count": 27,
   "metadata": {},
   "outputs": [
    {
     "name": "stderr",
     "output_type": "stream",
     "text": [
      "100%|██████████| 1564/1564 [00:00<00:00, 7506.52it/s]\n"
     ]
    },
    {
     "name": "stdout",
     "output_type": "stream",
     "text": [
      "Proportion of data points kept: 59.27%\n",
      "\n",
      "snorkel-second-iteration labeling has an accuracy of 60.71%\n",
      "\n"
     ]
    },
    {
     "data": {
      "image/png": "[encoded data removed]",
      "text/plain": [
       "<Figure size 432x288 with 1 Axes>"
      ]
     },
     "metadata": {
      "needs_background": "light"
     },
     "output_type": "display_data"
    }
   ],
   "source": [
    "label_given_rules(X_train, lfs, MultinomialNB(), \"snorkel-second-iteration\")\n",
    "\n",
    "plot_accuracies()"
   ]
  },
  {
   "cell_type": "markdown",
   "metadata": {},
   "source": [
    "This time 61% of the original dataset was given a decisive label which helped the model reach a higher accuracy when compared to the first iteration. Now the accuracy is considerably higher than the random labeling but it is still very far away from the upper bound.\n",
    "\n",
    "Let's see if we can make it even better!"
   ]
  },
  {
   "cell_type": "markdown",
   "metadata": {},
   "source": [
    "### Third Iteration - Even more rules\n",
    "\n",
    "The rules we have defined so far are doing a fair job. Let's add two additional rules that focus on detecting NOT_SPAM comments since most of the existing rules focus on the opposite task.\n",
    "\n",
    "The first labeling function will use a third-party model for sentiment classification. The idea is that non-spam comments are commonly positive. The polarity metric used is a value between -1 and 1. In a similar fashion, many non-spam comments are short.\n",
    "\n",
    "Let's define these two new rules:"
   ]
  },
  {
   "cell_type": "code",
   "execution_count": 28,
   "metadata": {},
   "outputs": [],
   "source": [
    "from textblob import TextBlob\n",
    "\n",
    "@labeling_function()\n",
    "def lf_textblob_polarity(x):\n",
    "    return NOT_SPAM if TextBlob(x.text).sentiment.polarity > 0.3 else ABSTAIN\n",
    "\n",
    "\n",
    "@labeling_function()\n",
    "def lf_short_comment(x):\n",
    "    return NOT_SPAM if len(x.text.split()) < 5 else ABSTAIN"
   ]
  },
  {
   "cell_type": "markdown",
   "metadata": {},
   "source": [
    "Next, append these two labeling functions to the previously defined list and apply it to the training data:"
   ]
  },
  {
   "cell_type": "code",
   "execution_count": 29,
   "metadata": {},
   "outputs": [
    {
     "name": "stderr",
     "output_type": "stream",
     "text": [
      "100%|██████████| 1564/1564 [00:00<00:00, 2276.09it/s]\n"
     ]
    }
   ],
   "source": [
    "lfs.append(lf_textblob_polarity)\n",
    "lfs.append(lf_short_comment)\n",
    "\n",
    "# Compute label matrix\n",
    "L_train = apply_rules(X_train, lfs)"
   ]
  },
  {
   "cell_type": "markdown",
   "metadata": {},
   "source": [
    "Now we can check coverage:"
   ]
  },
  {
   "cell_type": "code",
   "execution_count": 30,
   "metadata": {},
   "outputs": [
    {
     "name": "stdout",
     "output_type": "stream",
     "text": [
      "Labeling functions analysis:\n",
      "\n"
     ]
    },
    {
     "data": {
      "text/html": [
       "<div>\n",
       "<style scoped>\n",
       "    .dataframe tbody tr th:only-of-type {\n",
       "        vertical-align: middle;\n",
       "    }\n",
       "\n",
       "    .dataframe tbody tr th {\n",
       "        vertical-align: top;\n",
       "    }\n",
       "\n",
       "    .dataframe thead th {\n",
       "        text-align: right;\n",
       "    }\n",
       "</style>\n",
       "<table border=\"1\" class=\"dataframe\">\n",
       "  <thead>\n",
       "    <tr style=\"text-align: right;\">\n",
       "      <th></th>\n",
       "      <th>j</th>\n",
       "      <th>Polarity</th>\n",
       "      <th>Coverage</th>\n",
       "      <th>Overlaps</th>\n",
       "      <th>Conflicts</th>\n",
       "    </tr>\n",
       "  </thead>\n",
       "  <tbody>\n",
       "    <tr>\n",
       "      <th>keyword_my</th>\n",
       "      <td>0</td>\n",
       "      <td>[1]</td>\n",
       "      <td>0.192455</td>\n",
       "      <td>0.177110</td>\n",
       "      <td>0.086957</td>\n",
       "    </tr>\n",
       "    <tr>\n",
       "      <th>lf_regex_check_out</th>\n",
       "      <td>1</td>\n",
       "      <td>[1]</td>\n",
       "      <td>0.221867</td>\n",
       "      <td>0.115090</td>\n",
       "      <td>0.059463</td>\n",
       "    </tr>\n",
       "    <tr>\n",
       "      <th>keyword_http</th>\n",
       "      <td>2</td>\n",
       "      <td>[1]</td>\n",
       "      <td>0.102302</td>\n",
       "      <td>0.077366</td>\n",
       "      <td>0.057545</td>\n",
       "    </tr>\n",
       "    <tr>\n",
       "      <th>keyword_subscribe</th>\n",
       "      <td>3</td>\n",
       "      <td>[1]</td>\n",
       "      <td>0.126598</td>\n",
       "      <td>0.101662</td>\n",
       "      <td>0.055627</td>\n",
       "    </tr>\n",
       "    <tr>\n",
       "      <th>keyword_please</th>\n",
       "      <td>4</td>\n",
       "      <td>[1]</td>\n",
       "      <td>0.108056</td>\n",
       "      <td>0.100384</td>\n",
       "      <td>0.045396</td>\n",
       "    </tr>\n",
       "    <tr>\n",
       "      <th>keyword_song</th>\n",
       "      <td>5</td>\n",
       "      <td>[0]</td>\n",
       "      <td>0.159207</td>\n",
       "      <td>0.122123</td>\n",
       "      <td>0.049872</td>\n",
       "    </tr>\n",
       "    <tr>\n",
       "      <th>lf_textblob_polarity</th>\n",
       "      <td>6</td>\n",
       "      <td>[0]</td>\n",
       "      <td>0.292199</td>\n",
       "      <td>0.221228</td>\n",
       "      <td>0.109974</td>\n",
       "    </tr>\n",
       "    <tr>\n",
       "      <th>lf_short_comment</th>\n",
       "      <td>7</td>\n",
       "      <td>[0]</td>\n",
       "      <td>0.258312</td>\n",
       "      <td>0.148338</td>\n",
       "      <td>0.063939</td>\n",
       "    </tr>\n",
       "  </tbody>\n",
       "</table>\n",
       "</div>"
      ],
      "text/plain": [
       "                      j Polarity  Coverage  Overlaps  Conflicts\n",
       "keyword_my            0      [1]  0.192455  0.177110   0.086957\n",
       "lf_regex_check_out    1      [1]  0.221867  0.115090   0.059463\n",
       "keyword_http          2      [1]  0.102302  0.077366   0.057545\n",
       "keyword_subscribe     3      [1]  0.126598  0.101662   0.055627\n",
       "keyword_please        4      [1]  0.108056  0.100384   0.045396\n",
       "keyword_song          5      [0]  0.159207  0.122123   0.049872\n",
       "lf_textblob_polarity  6      [0]  0.292199  0.221228   0.109974\n",
       "lf_short_comment      7      [0]  0.258312  0.148338   0.063939"
      ]
     },
     "execution_count": 30,
     "metadata": {},
     "output_type": "execute_result"
    }
   ],
   "source": [
    "# Output useful statistics\n",
    "print(\"Labeling functions analysis:\\n\")\n",
    "LFAnalysis(L=L_train, lfs=lfs).lf_summary()"
   ]
  },
  {
   "cell_type": "markdown",
   "metadata": {},
   "source": [
    "These new rules do a pretty well job at covering the dataset.\n",
    "\n",
    "Let's train the model with these new labels and check performance:"
   ]
  },
  {
   "cell_type": "code",
   "execution_count": 31,
   "metadata": {},
   "outputs": [
    {
     "name": "stderr",
     "output_type": "stream",
     "text": [
      "100%|██████████| 1564/1564 [00:00<00:00, 2420.95it/s]\n"
     ]
    },
    {
     "name": "stdout",
     "output_type": "stream",
     "text": [
      "Proportion of data points kept: 82.16%\n",
      "\n",
      "snorkel-third-iteration labeling has an accuracy of 74.49%\n",
      "\n"
     ]
    },
    {
     "data": {
      "image/png": "[encoded data removed]",
      "text/plain": [
       "<Figure size 432x288 with 1 Axes>"
      ]
     },
     "metadata": {
      "needs_background": "light"
     },
     "output_type": "display_data"
    }
   ],
   "source": [
    "label_given_rules(X_train, lfs, MultinomialNB(),\"snorkel-third-iteration\")\n",
    "\n",
    "plot_accuracies()"
   ]
  },
  {
   "cell_type": "markdown",
   "metadata": {},
   "source": [
    "These labeling strategy reached an accuracy of ~75%! We are getting closer and closer to the upper bound defined by using the true labels.\n",
    "\n",
    "We could keep going on adding more rules to improve accuracy and we do encourage you to try it out yourself!\n",
    "\n",
    "However we are going to take another approach and that is to try out different classifiers. Maybe the labeling is already pretty good but another classifier might do a better job of generalizing.\n",
    "\n",
    "Let's test this hypothesis!"
   ]
  },
  {
   "cell_type": "markdown",
   "metadata": {},
   "source": [
    "### Selecting a classifier"
   ]
  },
  {
   "cell_type": "markdown",
   "metadata": {},
   "source": [
    "The rules you implemented seem to be doing a fair job. Is it possible to do better with the same automatically generated labels? Perhaps changing the classifier will help in reaching a higher accuracy on the test data set. \n",
    "Let's leverage several sklearn classifiers to check if this is actually true:"
   ]
  },
  {
   "cell_type": "code",
   "execution_count": 32,
   "metadata": {},
   "outputs": [],
   "source": [
    "from sklearn.svm import SVC\n",
    "from sklearn.naive_bayes import GaussianNB\n",
    "from sklearn.tree import DecisionTreeClassifier\n",
    "from sklearn.neighbors import KNeighborsClassifier\n",
    "from sklearn.ensemble import RandomForestClassifier\n",
    "from sklearn.linear_model import LogisticRegression\n",
    "\n",
    "clfs = [\n",
    "    LogisticRegression(),\n",
    "    MultinomialNB(),\n",
    "    DecisionTreeClassifier(),\n",
    "    SVC(),\n",
    "    KNeighborsClassifier(),\n",
    "    RandomForestClassifier()\n",
    "]\n",
    "\n",
    "# Helper function to get a classifier's name\n",
    "def clf_name(clf):\n",
    "    return clf.__class__.__name__"
   ]
  },
  {
   "cell_type": "markdown",
   "metadata": {},
   "source": [
    "Before doing this for the automatic labeled data, let's do a sanity check using the true labels."
   ]
  },
  {
   "cell_type": "code",
   "execution_count": 33,
   "metadata": {},
   "outputs": [
    {
     "data": {
      "image/png": "[encoded data removed]",
      "text/plain": [
       "<Figure size 432x288 with 1 Axes>"
      ]
     },
     "metadata": {
      "needs_background": "light"
     },
     "output_type": "display_data"
    }
   ],
   "source": [
    "# Initialize dict to save acc for each classifier\n",
    "true_accs = dict()\n",
    "\n",
    "# Compute accuracy for each classifier using true labels and save result\n",
    "for clf in clfs:\n",
    "    acc = calculate_accuracy(X_train, y_train, clf=clf)\n",
    "    true_accs[f\"{clf_name(clf)}\"] = acc\n",
    "\n",
    "    \n",
    "# Plot results\n",
    "plot_accuracies(true_accs)"
   ]
  },
  {
   "cell_type": "markdown",
   "metadata": {},
   "source": [
    "Some classifiers outperform the original choice (Multinomial Naive Bayes).\n",
    "So, it is worth trying these other classifiers in conjunction with the automatic labeling:"
   ]
  },
  {
   "cell_type": "code",
   "execution_count": 34,
   "metadata": {},
   "outputs": [
    {
     "name": "stderr",
     "output_type": "stream",
     "text": [
      "100%|██████████| 1564/1564 [00:00<00:00, 2424.05it/s]\n",
      "100%|██████████| 1564/1564 [00:00<00:00, 2421.70it/s]\n",
      "100%|██████████| 1564/1564 [00:00<00:00, 2418.78it/s]\n",
      "100%|██████████| 1564/1564 [00:00<00:00, 2422.20it/s]\n",
      "100%|██████████| 1564/1564 [00:00<00:00, 2411.86it/s]\n",
      "100%|██████████| 1564/1564 [00:00<00:00, 2421.84it/s]\n"
     ]
    },
    {
     "data": {
      "image/png": "[encoded data removed]",
      "text/plain": [
       "<Figure size 432x288 with 1 Axes>"
      ]
     },
     "metadata": {
      "needs_background": "light"
     },
     "output_type": "display_data"
    }
   ],
   "source": [
    "# Initialize dict to save acc for each classifier\n",
    "clf_accs = dict()\n",
    "\n",
    "# Save accuracy of best classifier with true labels\n",
    "clf_accs['true-labels-best-clf'] = max(true_accs.values())\n",
    "\n",
    "# Perform automatic labeling for each classifier\n",
    "for clf in clfs:\n",
    "    *_, acc = label_given_rules(X_train, \n",
    "                                lfs, \n",
    "                                clf, \n",
    "                                f\"{clf_name(clf)}\", \n",
    "                                accs_dict=clf_accs, \n",
    "                                verbose=False)\n",
    "    \n",
    "plot_accuracies(clf_accs)"
   ]
  },
  {
   "cell_type": "markdown",
   "metadata": {},
   "source": [
    "There is still some road ahead if you want to hit the upper bound. However, notice that some of the new classifiers reach accuracies around 85%. This means that by changing classifiers we can get an extra 10% increase using our automatic labeling technique!\n",
    "\n",
    "Let's reflect on what you have done in this lab:\n",
    "1. You defined an automated labeling process for your data (isn't that cool?)\n",
    "2. You tested different classifiers.\n",
    "3. The accuracy is currently at 85%! Good job!\n"
   ]
  },
  {
   "cell_type": "markdown",
   "metadata": {},
   "source": [
    "### Bonus Section - Variance in small data datasets"
   ]
  },
  {
   "cell_type": "markdown",
   "metadata": {},
   "source": [
    "Snorkel's official tutorial uses this same dataset and their strategy achieves close to 94% classification accuracy. You might be wondering how did they achieve such a high accuracy score? \n",
    "\n",
    "It turns out that this is a small dataset and how you split the data for training and testing plays a big role when analyzing performance metrics. More concretely, in Snorkel's tutorial the testing data set consisted of comments from video #5, whereas the rest of the comments made the training set. This is very different of what you have done in this ungraded lab.  \n",
    "\n",
    "In this bonus section, you will characterize how different data splits affect accuracy by measuring its variability. The strategy will be comparing the accuracies when using the comments of one video for testing and the rest for training. You can think of this as a \"leave one video out\" procedure. Then you will compute statistics over all runs.\n",
    "\n",
    "Let's get started by properly splitting the data:"
   ]
  },
  {
   "cell_type": "code",
   "execution_count": 35,
   "metadata": {},
   "outputs": [],
   "source": [
    "# Create a train/test split depending on number of video\n",
    "def get_split(video_num):\n",
    "    X_train_new = df_labeled[df_labeled.video != video_num]\n",
    "    X_test_new = df_labeled[df_labeled.video == video_num]\n",
    "    y_train_new = df_labeled[df_labeled.video != video_num].label\n",
    "    y_test_new = df_labeled[df_labeled.video == video_num].label\n",
    "    \n",
    "    return X_train_new, y_train_new, X_test_new, y_test_new\n",
    "\n",
    "# Save every split on a list\n",
    "splits = []\n",
    "for i in range(1, 6):\n",
    "    splits.append((get_split(i)))"
   ]
  },
  {
   "cell_type": "markdown",
   "metadata": {},
   "source": [
    "### Variance with true labels\n",
    "\n",
    "Let's first check how variable the accuracy is when training different models with the true labels. You should expect the true labels will yield a lower variability, so let's use them as a baseline to compare:"
   ]
  },
  {
   "cell_type": "code",
   "execution_count": 36,
   "metadata": {},
   "outputs": [],
   "source": [
    "# Initialize dict to save results to (var stands for variance)\n",
    "true_accs_var = dict()\n",
    "\n",
    "# Compute acc for every classifier and split\n",
    "for clf in clfs:\n",
    "    true_accs_var[f\"{clf_name(clf)}\"] = []\n",
    "    for i, split in enumerate(splits):\n",
    "        acc = calculate_accuracy(split[0], split[1], X_te=split[2], y_te=split[3], clf=clf)\n",
    "        true_accs_var[f\"{clf_name(clf)}\"].append(acc)"
   ]
  },
  {
   "cell_type": "code",
   "execution_count": 37,
   "metadata": {},
   "outputs": [
    {
     "data": {
      "text/html": [
       "<div>\n",
       "<style scoped>\n",
       "    .dataframe tbody tr th:only-of-type {\n",
       "        vertical-align: middle;\n",
       "    }\n",
       "\n",
       "    .dataframe tbody tr th {\n",
       "        vertical-align: top;\n",
       "    }\n",
       "\n",
       "    .dataframe thead th {\n",
       "        text-align: right;\n",
       "    }\n",
       "</style>\n",
       "<table border=\"1\" class=\"dataframe\">\n",
       "  <thead>\n",
       "    <tr style=\"text-align: right;\">\n",
       "      <th></th>\n",
       "      <th>LogisticRegression</th>\n",
       "      <th>MultinomialNB</th>\n",
       "      <th>DecisionTreeClassifier</th>\n",
       "      <th>SVC</th>\n",
       "      <th>KNeighborsClassifier</th>\n",
       "      <th>RandomForestClassifier</th>\n",
       "    </tr>\n",
       "  </thead>\n",
       "  <tbody>\n",
       "    <tr>\n",
       "      <th>0</th>\n",
       "      <td>0.920000</td>\n",
       "      <td>0.802857</td>\n",
       "      <td>0.865714</td>\n",
       "      <td>0.500000</td>\n",
       "      <td>0.642857</td>\n",
       "      <td>0.920000</td>\n",
       "    </tr>\n",
       "    <tr>\n",
       "      <th>1</th>\n",
       "      <td>0.945714</td>\n",
       "      <td>0.877143</td>\n",
       "      <td>0.937143</td>\n",
       "      <td>0.500000</td>\n",
       "      <td>0.634286</td>\n",
       "      <td>0.908571</td>\n",
       "    </tr>\n",
       "    <tr>\n",
       "      <th>2</th>\n",
       "      <td>0.926941</td>\n",
       "      <td>0.876712</td>\n",
       "      <td>0.968037</td>\n",
       "      <td>0.538813</td>\n",
       "      <td>0.824201</td>\n",
       "      <td>0.913242</td>\n",
       "    </tr>\n",
       "    <tr>\n",
       "      <th>3</th>\n",
       "      <td>0.955357</td>\n",
       "      <td>0.881696</td>\n",
       "      <td>0.962054</td>\n",
       "      <td>0.546875</td>\n",
       "      <td>0.756696</td>\n",
       "      <td>0.933036</td>\n",
       "    </tr>\n",
       "    <tr>\n",
       "      <th>4</th>\n",
       "      <td>0.910811</td>\n",
       "      <td>0.897297</td>\n",
       "      <td>0.900000</td>\n",
       "      <td>0.470270</td>\n",
       "      <td>0.764865</td>\n",
       "      <td>0.894595</td>\n",
       "    </tr>\n",
       "  </tbody>\n",
       "</table>\n",
       "</div>"
      ],
      "text/plain": [
       "   LogisticRegression  MultinomialNB  DecisionTreeClassifier       SVC  \\\n",
       "0            0.920000       0.802857                0.865714  0.500000   \n",
       "1            0.945714       0.877143                0.937143  0.500000   \n",
       "2            0.926941       0.876712                0.968037  0.538813   \n",
       "3            0.955357       0.881696                0.962054  0.546875   \n",
       "4            0.910811       0.897297                0.900000  0.470270   \n",
       "\n",
       "   KNeighborsClassifier  RandomForestClassifier  \n",
       "0              0.642857                0.920000  \n",
       "1              0.634286                0.908571  \n",
       "2              0.824201                0.913242  \n",
       "3              0.756696                0.933036  \n",
       "4              0.764865                0.894595  "
      ]
     },
     "execution_count": 37,
     "metadata": {},
     "output_type": "execute_result"
    }
   ],
   "source": [
    "true_accs_var_df = pd.DataFrame.from_dict(true_accs_var)\n",
    "true_accs_var_df"
   ]
  },
  {
   "cell_type": "markdown",
   "metadata": {},
   "source": [
    "It is hard to have a sense of the distribution by just looking at a table.\n",
    "\n",
    "Let's look at the scatterplot to get a better sense of how much variance there is across splits. \n",
    "\n",
    "Notice that this exercise is not an in-depth analysis, just a high level overview of what happens when dealing with small data."
   ]
  },
  {
   "cell_type": "code",
   "execution_count": 38,
   "metadata": {},
   "outputs": [
    {
     "data": {
      "image/png": "[encoded data removed]",
      "text/plain": [
       "<Figure size 1080x360 with 1 Axes>"
      ]
     },
     "metadata": {
      "needs_background": "light"
     },
     "output_type": "display_data"
    }
   ],
   "source": [
    "fig, ax = plt.subplots(figsize=(15,5))\n",
    "sns.scatterplot(data=true_accs_var_df.T, ax=ax)\n",
    "ax.legend(loc=\"best\", labels=[\"leave out video 1\", \"leave out video 2\", \"leave out video 3\",\"leave out video 4\", \"leave out video 5\"])\n",
    "plt.show()"
   ]
  },
  {
   "cell_type": "markdown",
   "metadata": {},
   "source": [
    "There is definitely some variability across splits. The effect is more noticeable for the `kNN` algorithm. But in general, variability is not very extreme.  \n",
    "\n",
    "If you want to check the actual values of the descriptive statistics you can do so by using the `describe` method of the dataframe, like this:\n",
    "\n",
    "```python\n",
    "true_accs_var_df.describe()\n",
    "```\n",
    "\n",
    "### Variance with automatic labels\n",
    "\n",
    "The rules defined for the automatic labeling process are noisy. Therefore,  you can expect that the model accuracy will reflect some of that labeling noise . Let's check the statistics with automated labeling:"
   ]
  },
  {
   "cell_type": "code",
   "execution_count": 39,
   "metadata": {},
   "outputs": [
    {
     "name": "stderr",
     "output_type": "stream",
     "text": [
      "100%|██████████| 1606/1606 [00:00<00:00, 2374.48it/s]\n",
      "100%|██████████| 1606/1606 [00:00<00:00, 2431.88it/s]\n",
      "100%|██████████| 1518/1518 [00:00<00:00, 2359.88it/s]\n",
      "100%|██████████| 1508/1508 [00:00<00:00, 2442.50it/s]\n",
      "100%|██████████| 1586/1586 [00:00<00:00, 2443.88it/s]\n",
      "100%|██████████| 1606/1606 [00:00<00:00, 2395.58it/s]\n",
      "100%|██████████| 1606/1606 [00:00<00:00, 2180.73it/s]\n",
      "100%|██████████| 1518/1518 [00:00<00:00, 2342.99it/s]\n",
      "100%|██████████| 1508/1508 [00:00<00:00, 2419.15it/s]\n",
      "100%|██████████| 1586/1586 [00:00<00:00, 2433.43it/s]\n",
      "100%|██████████| 1606/1606 [00:00<00:00, 2405.94it/s]\n",
      "100%|██████████| 1606/1606 [00:00<00:00, 2425.96it/s]\n",
      "100%|██████████| 1518/1518 [00:00<00:00, 2328.88it/s]\n",
      "100%|██████████| 1508/1508 [00:00<00:00, 2427.24it/s]\n",
      "100%|██████████| 1586/1586 [00:00<00:00, 2447.38it/s]\n",
      "100%|██████████| 1606/1606 [00:00<00:00, 2412.26it/s]\n",
      "100%|██████████| 1606/1606 [00:00<00:00, 2436.64it/s]\n",
      "100%|██████████| 1518/1518 [00:00<00:00, 2355.08it/s]\n",
      "100%|██████████| 1508/1508 [00:00<00:00, 2446.50it/s]\n",
      "100%|██████████| 1586/1586 [00:00<00:00, 2452.86it/s]\n",
      "100%|██████████| 1606/1606 [00:00<00:00, 2421.37it/s]\n",
      "100%|██████████| 1606/1606 [00:00<00:00, 2429.26it/s]\n",
      "100%|██████████| 1518/1518 [00:00<00:00, 2330.01it/s]\n",
      "100%|██████████| 1508/1508 [00:00<00:00, 2445.10it/s]\n",
      "100%|██████████| 1586/1586 [00:00<00:00, 2435.12it/s]\n",
      "100%|██████████| 1606/1606 [00:00<00:00, 2408.26it/s]\n",
      "100%|██████████| 1606/1606 [00:00<00:00, 2430.48it/s]\n",
      "100%|██████████| 1518/1518 [00:00<00:00, 2355.01it/s]\n",
      "100%|██████████| 1508/1508 [00:00<00:00, 2452.79it/s]\n",
      "100%|██████████| 1586/1586 [00:00<00:00, 2451.51it/s]\n"
     ]
    }
   ],
   "source": [
    "# Initialize dict to save results to (var stands for variance)\n",
    "clf_accs_var = dict()\n",
    "\n",
    "# Compute acc for every classifier and split\n",
    "for clf in clfs:\n",
    "    clf_accs_var[f\"{clf_name(clf)}\"] = []\n",
    "    for i, split in enumerate(splits):\n",
    "        *_, acc = label_given_rules(split[0], \n",
    "                                    lfs, \n",
    "                                    clf, \n",
    "                                    f\"{clf_name(clf)}\"+\"-split-\"+str(i), \n",
    "                                    X_te=split[2], \n",
    "                                    y_te=split[3], \n",
    "                                    verbose=False)\n",
    "        \n",
    "        clf_accs_var[f\"{clf_name(clf)}\"].append(acc)"
   ]
  },
  {
   "cell_type": "code",
   "execution_count": 40,
   "metadata": {},
   "outputs": [
    {
     "data": {
      "text/html": [
       "<div>\n",
       "<style scoped>\n",
       "    .dataframe tbody tr th:only-of-type {\n",
       "        vertical-align: middle;\n",
       "    }\n",
       "\n",
       "    .dataframe tbody tr th {\n",
       "        vertical-align: top;\n",
       "    }\n",
       "\n",
       "    .dataframe thead th {\n",
       "        text-align: right;\n",
       "    }\n",
       "</style>\n",
       "<table border=\"1\" class=\"dataframe\">\n",
       "  <thead>\n",
       "    <tr style=\"text-align: right;\">\n",
       "      <th></th>\n",
       "      <th>LogisticRegression</th>\n",
       "      <th>MultinomialNB</th>\n",
       "      <th>DecisionTreeClassifier</th>\n",
       "      <th>SVC</th>\n",
       "      <th>KNeighborsClassifier</th>\n",
       "      <th>RandomForestClassifier</th>\n",
       "    </tr>\n",
       "  </thead>\n",
       "  <tbody>\n",
       "    <tr>\n",
       "      <th>0</th>\n",
       "      <td>0.780000</td>\n",
       "      <td>0.591429</td>\n",
       "      <td>0.760000</td>\n",
       "      <td>0.500000</td>\n",
       "      <td>0.640000</td>\n",
       "      <td>0.751429</td>\n",
       "    </tr>\n",
       "    <tr>\n",
       "      <th>1</th>\n",
       "      <td>0.705714</td>\n",
       "      <td>0.622857</td>\n",
       "      <td>0.720000</td>\n",
       "      <td>0.500000</td>\n",
       "      <td>0.625714</td>\n",
       "      <td>0.697143</td>\n",
       "    </tr>\n",
       "    <tr>\n",
       "      <th>2</th>\n",
       "      <td>0.885845</td>\n",
       "      <td>0.831050</td>\n",
       "      <td>0.899543</td>\n",
       "      <td>0.461187</td>\n",
       "      <td>0.824201</td>\n",
       "      <td>0.897260</td>\n",
       "    </tr>\n",
       "    <tr>\n",
       "      <th>3</th>\n",
       "      <td>0.917411</td>\n",
       "      <td>0.868304</td>\n",
       "      <td>0.921875</td>\n",
       "      <td>0.453125</td>\n",
       "      <td>0.754464</td>\n",
       "      <td>0.919643</td>\n",
       "    </tr>\n",
       "    <tr>\n",
       "      <th>4</th>\n",
       "      <td>0.886486</td>\n",
       "      <td>0.832432</td>\n",
       "      <td>0.851351</td>\n",
       "      <td>0.470270</td>\n",
       "      <td>0.754054</td>\n",
       "      <td>0.878378</td>\n",
       "    </tr>\n",
       "  </tbody>\n",
       "</table>\n",
       "</div>"
      ],
      "text/plain": [
       "   LogisticRegression  MultinomialNB  DecisionTreeClassifier       SVC  \\\n",
       "0            0.780000       0.591429                0.760000  0.500000   \n",
       "1            0.705714       0.622857                0.720000  0.500000   \n",
       "2            0.885845       0.831050                0.899543  0.461187   \n",
       "3            0.917411       0.868304                0.921875  0.453125   \n",
       "4            0.886486       0.832432                0.851351  0.470270   \n",
       "\n",
       "   KNeighborsClassifier  RandomForestClassifier  \n",
       "0              0.640000                0.751429  \n",
       "1              0.625714                0.697143  \n",
       "2              0.824201                0.897260  \n",
       "3              0.754464                0.919643  \n",
       "4              0.754054                0.878378  "
      ]
     },
     "execution_count": 40,
     "metadata": {},
     "output_type": "execute_result"
    }
   ],
   "source": [
    "clf_accs_var_df = pd.DataFrame.from_dict(clf_accs_var)\n",
    "clf_accs_var_df"
   ]
  },
  {
   "cell_type": "markdown",
   "metadata": {},
   "source": [
    "Again let's make a scatterplot as it is hard to get a sense of the distribution across splits just form the table:"
   ]
  },
  {
   "cell_type": "code",
   "execution_count": 41,
   "metadata": {},
   "outputs": [
    {
     "data": {
      "image/png": "[encoded data removed]",
      "text/plain": [
       "<Figure size 1080x360 with 1 Axes>"
      ]
     },
     "metadata": {
      "needs_background": "light"
     },
     "output_type": "display_data"
    }
   ],
   "source": [
    "fig, ax = plt.subplots(figsize=(15,5))\n",
    "sns.scatterplot(data=clf_accs_var_df.T, ax=ax)\n",
    "ax.legend(loc=\"best\", labels=[\"leave out video 1\", \"leave out video 2\", \"leave out video 3\",\"leave out video 4\", \"leave out video 5\"])\n",
    "plt.show()"
   ]
  },
  {
   "cell_type": "markdown",
   "metadata": {},
   "source": [
    "Accuracies have a greater variance when calculated alongside the automatic labeling. This is expected as this very process introduces some noise to the data when compared with using the true labels. \n",
    "\n",
    "Stratification allows you to control for proper class balance, as you did before in this lab. However, you cannot control the patterns in the comments (for which you built some rules for) that end up in the training and test split. This might dampen the classification process. More concretely, Snorkel can give a lot of importance to a rule that does a good job at classifying spam for a given pattern, but due to how the data is split, this pattern could be mostly absent in the test set. This is something to take into account when working with small data. \n",
    "\n",
    "For this particular data set, it looks like  `Logistic Regression`, `Decision Trees` or `Random Forest`, are the best classifiers as they yield the highest accuracy with low intersplit variability. To check the actual values don't forget you can use the `describe` method as mentioned earlier."
   ]
  },
  {
   "cell_type": "markdown",
   "metadata": {},
   "source": [
    "**Congratulations on finishing this ungraded lab!** Now you should feel more familiar with the use of Snorkel and have a better understanding of the importance of data labeling. This process is of uttermost importance to guarantee the success of your Machine Learning models.\n",
    "\n",
    "**Keep it up!**"
   ]
  },
  {
   "cell_type": "code",
   "execution_count": null,
   "metadata": {},
   "outputs": [],
   "source": []
  }
 ],
 "metadata": {
  "jupytext": {
   "encoding": "# -*- coding: utf-8 -*-"
  },
  "kernelspec": {
   "display_name": "Python 3",
   "language": "python",
   "name": "python3"
  },
  "language_info": {
   "codemirror_mode": {
    "name": "ipython",
    "version": 3
   },
   "file_extension": ".py",
   "mimetype": "text/x-python",
   "name": "python",
   "nbconvert_exporter": "python",
   "pygments_lexer": "ipython3",
   "version": "3.7.6"
  }
 },
 "nbformat": 4,
 "nbformat_minor": 4
}
